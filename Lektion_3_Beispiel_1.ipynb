{
 "cells": [
  {
   "cell_type": "markdown",
   "id": "65007eb6-c680-4a49-aeda-4fb0b812c271",
   "metadata": {},
   "source": [
    "# Bedingte Anweisungen\n",
    "## Aufgabe\n",
    "Schreibe ein Programm, bei dem zwei Variablen a, b mittels einer Eingabeaufforderung mit Ganzzahlen initialisiert werden. Gib aus, ob a größer, kleiner oder gleich b ist.\n",
    "\n",
    "Anmerkung: Es wird in diesem Beispiel auf eine Behandlung von Eingabefehlern verzichtet. Die Fehlerbehandlung wird in Lektion 5 eingeführt."
   ]
  },
  {
   "cell_type": "code",
   "execution_count": null,
   "id": "47814e7a-1f13-47f5-9a6c-c2cd10c3d5a6",
   "metadata": {},
   "outputs": [],
   "source": [
    "a = int(input(\"Gib eine Zahl ein: a =\"))\n",
    "b = int(input(\"Gib eine Zahl ein: b =\"))\n",
    "if a>b:\n",
    "    print(\"a ist größer als b\")\n",
    "elif a<b:\n",
    "    print(\"a ist kleiner als b\")\n",
    "else:\n",
    "    print(\"a ist gleich b\")"
   ]
  }
 ],
 "metadata": {
  "kernelspec": {
   "display_name": "Python 3 (ipykernel)",
   "language": "python",
   "name": "python3"
  },
  "language_info": {
   "codemirror_mode": {
    "name": "ipython",
    "version": 3
   },
   "file_extension": ".py",
   "mimetype": "text/x-python",
   "name": "python",
   "nbconvert_exporter": "python",
   "pygments_lexer": "ipython3",
   "version": "3.11.4"
  }
 },
 "nbformat": 4,
 "nbformat_minor": 5
}
