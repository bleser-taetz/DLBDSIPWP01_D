{
 "cells": [
  {
   "cell_type": "markdown",
   "id": "cf5e9ce3-cc6d-48e5-8307-462d90474a27",
   "metadata": {
    "tags": []
   },
   "source": [
    "# Dateien\n",
    "## Aufgabe\n",
    "\n",
    "Lies die Studierenden-Daten aus der Datei Lektion_2_Studierende.txt ein und gib sie aus. Füge deine eigenen Daten ans Ende der Datei hinzu."
   ]
  },
  {
   "cell_type": "code",
   "execution_count": null,
   "id": "6ce88bf8-b987-4322-90a4-3c457100a639",
   "metadata": {},
   "outputs": [],
   "source": []
  }
 ],
 "metadata": {
  "kernelspec": {
   "display_name": "Python 3 (ipykernel)",
   "language": "python",
   "name": "python3"
  },
  "language_info": {
   "codemirror_mode": {
    "name": "ipython",
    "version": 3
   },
   "file_extension": ".py",
   "mimetype": "text/x-python",
   "name": "python",
   "nbconvert_exporter": "python",
   "pygments_lexer": "ipython3",
   "version": "3.11.4"
  }
 },
 "nbformat": 4,
 "nbformat_minor": 5
}
