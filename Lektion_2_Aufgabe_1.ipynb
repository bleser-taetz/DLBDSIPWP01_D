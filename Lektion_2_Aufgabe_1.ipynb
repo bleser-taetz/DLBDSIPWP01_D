{
 "cells": [
  {
   "cell_type": "markdown",
   "id": "8de1d0cf-13f6-4f1f-b0d0-e0e7f2f0503b",
   "metadata": {},
   "source": [
    "# Zahlen und Strings\n",
    "## Aufgabe\n",
    "Berechne den Body Mass Index (BMI) aus den vorgegebenen Variablen und gebe diesen als Ganzzahl mit einer Erklärung aus, die den Vornamen der Person enthält. Der BMI kann berechnet werden, indem das Gewicht durch die quadrierte Größe geteilt wird."
   ]
  },
  {
   "cell_type": "code",
   "execution_count": 1,
   "id": "a0bd6493-e699-4cc8-8929-153bdb327724",
   "metadata": {},
   "outputs": [],
   "source": [
    "age = 41\n",
    "height = 1.85\n",
    "weight = 78\n",
    "name = \"Müller, Peter\""
   ]
  },
  {
   "cell_type": "code",
   "execution_count": null,
   "id": "37d41ba5-18bd-4b6b-b706-b83b423695be",
   "metadata": {},
   "outputs": [],
   "source": []
  }
 ],
 "metadata": {
  "kernelspec": {
   "display_name": "Python 3 (ipykernel)",
   "language": "python",
   "name": "python3"
  },
  "language_info": {
   "codemirror_mode": {
    "name": "ipython",
    "version": 3
   },
   "file_extension": ".py",
   "mimetype": "text/x-python",
   "name": "python",
   "nbconvert_exporter": "python",
   "pygments_lexer": "ipython3",
   "version": "3.11.4"
  }
 },
 "nbformat": 4,
 "nbformat_minor": 5
}
