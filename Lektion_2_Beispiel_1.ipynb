{
 "cells": [
  {
   "cell_type": "markdown",
   "id": "8de1d0cf-13f6-4f1f-b0d0-e0e7f2f0503b",
   "metadata": {},
   "source": [
    "# Zahlen und Strings\n",
    "## Aufgabe\n",
    "Berechne den Body Mass Index (BMI) aus den vorgegebenen Variablen und gebe diesen als Ganzzahl mit einer Erklärung aus, die den Vornamen der Person enthält. Der BMI kann berechnet werden, indem das Gewicht durch die quadrierte Größe geteilt wird."
   ]
  },
  {
   "cell_type": "code",
   "execution_count": null,
   "id": "a0bd6493-e699-4cc8-8929-153bdb327724",
   "metadata": {},
   "outputs": [],
   "source": [
    "age = 41\n",
    "height = 1.85\n",
    "weight = 78\n",
    "name = \"Müller, Peter\""
   ]
  },
  {
   "cell_type": "markdown",
   "id": "15d9efaa-bbed-47de-a976-c012cf485334",
   "metadata": {
    "tags": []
   },
   "source": [
    "## Beispiellösung"
   ]
  },
  {
   "cell_type": "code",
   "execution_count": null,
   "id": "3d3fe32f-6cec-4dfb-a362-3e07f3d4de62",
   "metadata": {},
   "outputs": [],
   "source": [
    "bmi = weight / height**2\n",
    "forename = name.split(\", \")[1]\n",
    "# forename = name.split(\",\")[1].strip()\n",
    "print(forename + \" hat einen BMI von ungefähr: \" + str(int(bmi)))\n",
    "# print(f\"{forename} hat einen BMI von ungefähr: {int(bmi)}\")\n",
    "# print(forename,\"hat einen BMI von ungefähr:\",str(int(bmi)))"
   ]
  }
 ],
 "metadata": {
  "kernelspec": {
   "display_name": "Python 3 (ipykernel)",
   "language": "python",
   "name": "python3"
  },
  "language_info": {
   "codemirror_mode": {
    "name": "ipython",
    "version": 3
   },
   "file_extension": ".py",
   "mimetype": "text/x-python",
   "name": "python",
   "nbconvert_exporter": "python",
   "pygments_lexer": "ipython3",
   "version": "3.11.4"
  }
 },
 "nbformat": 4,
 "nbformat_minor": 5
}
